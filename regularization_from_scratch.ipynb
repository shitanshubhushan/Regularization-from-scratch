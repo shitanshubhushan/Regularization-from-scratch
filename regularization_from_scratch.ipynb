{
 "cells": [
  {
   "cell_type": "code",
   "execution_count": 1,
   "metadata": {},
   "outputs": [],
   "source": [
    "import pandas as pd\n",
    "import numpy as np\n",
    "import matplotlib.pyplot as plt\n",
    "from sklearn.model_selection import train_test_split\n",
    "from sklearn.metrics import r2_score"
   ]
  },
  {
   "cell_type": "code",
   "execution_count": 2,
   "metadata": {},
   "outputs": [],
   "source": [
    "def generate_polynomial_features(x: np.ndarray, M: int) -> np.ndarray:\n",
    "    \"\"\"Generate the polynomial features.\n",
    "\n",
    "    Args:\n",
    "        x: A numpy array with shape (N, ).\n",
    "        M: the degree of the polynomial.\n",
    "    Returns:\n",
    "        phi: A feature vector represented by a numpy array with shape (N, M+1);\n",
    "          each row being (x^{(i)})^j, for 0 <= j <= M.\n",
    "    \"\"\"\n",
    "    N = len(x)\n",
    "    phi = np.zeros((N, M + 1))\n",
    "    for m in range(M + 1):\n",
    "        phi[:, m] = np.power(x, m)\n",
    "    return phi"
   ]
  },
  {
   "cell_type": "code",
   "execution_count": 3,
   "metadata": {},
   "outputs": [],
   "source": [
    "n_samples_small = 20\n",
    "X_small = np.random.rand(n_samples_small)\n",
    "y_small = 15 * (X_small ** 2) + 25 * X_small + 30 + np.random.randn(n_samples_small) * 10\n",
    "X_train_small, X_test_small, y_train, y_test = train_test_split(X_small, y_small, test_size=0.2, random_state=42)\n",
    "\n",
    "X_train = generate_polynomial_features(X_train_small, M=9)\n",
    "X_test = generate_polynomial_features(X_test_small, M=9)"
   ]
  },
  {
   "cell_type": "code",
   "execution_count": 4,
   "metadata": {},
   "outputs": [],
   "source": [
    "loaded = np.load('arrays.npz')\n",
    "X_train = loaded['array1']\n",
    "X_test = loaded['array2']\n",
    "y_train = loaded['array3']\n",
    "y_test = loaded['array4']"
   ]
  },
  {
   "cell_type": "markdown",
   "metadata": {},
   "source": [
    "## Linear Regression, Lasso and Ridge"
   ]
  },
  {
   "cell_type": "code",
   "execution_count": 5,
   "metadata": {},
   "outputs": [
    {
     "name": "stdout",
     "output_type": "stream",
     "text": [
      "Linear Regression Model R2 on train data: 0.9488675257965271\n",
      "Linear Regression Model R2 on test data: -0.28887513814431687\n"
     ]
    }
   ],
   "source": [
    "from sklearn.linear_model import LinearRegression, Ridge, Lasso\n",
    "\n",
    "model_LR = LinearRegression()\n",
    "model_LR.fit(X_train, y_train)\n",
    "\n",
    "y_pred_train = model_LR.predict(X_train)\n",
    "y_pred_test = model_LR.predict(X_test)\n",
    "\n",
    "print(f\"Linear Regression Model R2 on train data: {r2_score(y_train, y_pred_train)}\")\n",
    "print(f\"Linear Regression Model R2 on test data: {r2_score(y_test, y_pred_test)}\")"
   ]
  },
  {
   "cell_type": "code",
   "execution_count": 6,
   "metadata": {},
   "outputs": [
    {
     "name": "stdout",
     "output_type": "stream",
     "text": [
      "Linear Regression Model intercept: 110.38487371196155\n"
     ]
    }
   ],
   "source": [
    "print(f\"Linear Regression Model intercept: {model_LR.intercept_}\")"
   ]
  },
  {
   "cell_type": "code",
   "execution_count": 7,
   "metadata": {},
   "outputs": [
    {
     "name": "stdout",
     "output_type": "stream",
     "text": [
      "Linear Regression Model Coefficients: [-8.10229507e+03  1.62628783e+05 -1.36258544e+06  6.08268540e+06\n",
      " -1.59639858e+07  2.54545529e+07 -2.42531081e+07  1.26952881e+07\n",
      " -2.80766407e+06]\n"
     ]
    }
   ],
   "source": [
    "print(f\"Linear Regression Model Coefficients: {model_LR.coef_[1:]}\")"
   ]
  },
  {
   "cell_type": "code",
   "execution_count": 8,
   "metadata": {},
   "outputs": [
    {
     "name": "stdout",
     "output_type": "stream",
     "text": [
      "Ridge Regression Model R2 on train data: 0.8173557953167079\n",
      "Ridge Regression Model R2 on test data: 0.6256731884104297\n"
     ]
    }
   ],
   "source": [
    "model_Ridge = Ridge(alpha=0.1)\n",
    "model_Ridge.fit(X_train, y_train)\n",
    "\n",
    "y_pred_train = model_Ridge.predict(X_train)\n",
    "y_pred_test = model_Ridge.predict(X_test)\n",
    "\n",
    "print(f\"Ridge Regression Model R2 on train data: {r2_score(y_train, y_pred_train)}\")\n",
    "print(f\"Ridge Regression Model R2 on test data: {r2_score(y_test, y_pred_test)}\")"
   ]
  },
  {
   "cell_type": "code",
   "execution_count": 9,
   "metadata": {},
   "outputs": [
    {
     "name": "stdout",
     "output_type": "stream",
     "text": [
      "Ridge Regression Model intercept: 31.45350937844156\n"
     ]
    }
   ],
   "source": [
    "print(f\"Ridge Regression Model intercept: {model_Ridge.intercept_}\")"
   ]
  },
  {
   "cell_type": "code",
   "execution_count": 10,
   "metadata": {},
   "outputs": [
    {
     "name": "stdout",
     "output_type": "stream",
     "text": [
      "Ridge Regression Model Coefficients: [10.93139262 12.95077001  7.50491763  3.50159261  1.46619794  0.75238561\n",
      "  0.76217181  1.09949949  1.53335468]\n"
     ]
    }
   ],
   "source": [
    "print(f\"Ridge Regression Model Coefficients: {model_Ridge.coef_[1:]}\")"
   ]
  },
  {
   "cell_type": "code",
   "execution_count": 11,
   "metadata": {},
   "outputs": [
    {
     "name": "stdout",
     "output_type": "stream",
     "text": [
      "Lasso Regression Model R2 on train data: 0.7693665220212011\n",
      "Lasso Regression Model R2 on test data: 0.5276681116400319\n"
     ]
    }
   ],
   "source": [
    "model_Lasso = Lasso(alpha=1)\n",
    "model_Lasso.fit(X_train, y_train)\n",
    "\n",
    "y_pred_train = model_Lasso.predict(X_train)\n",
    "y_pred_test = model_Lasso.predict(X_test)\n",
    "\n",
    "print(f\"Lasso Regression Model R2 on train data: {r2_score(y_train, y_pred_train)}\")\n",
    "print(f\"Lasso Regression Model R2 on test data: {r2_score(y_test, y_pred_test)}\")"
   ]
  },
  {
   "cell_type": "code",
   "execution_count": 12,
   "metadata": {},
   "outputs": [
    {
     "name": "stdout",
     "output_type": "stream",
     "text": [
      "Lasso Regression Model intercept: 35.77813122027097\n"
     ]
    }
   ],
   "source": [
    "print(f\"Lasso Regression Model intercept: {model_Lasso.intercept_}\")"
   ]
  },
  {
   "cell_type": "code",
   "execution_count": 13,
   "metadata": {},
   "outputs": [
    {
     "name": "stdout",
     "output_type": "stream",
     "text": [
      "Lasso Regression Model Coefficients: [ 0.         28.26417145  0.          0.          0.          0.\n",
      "  0.          0.          0.        ]\n"
     ]
    }
   ],
   "source": [
    "print(f\"Lasso Regression Model Coefficients: {model_Lasso.coef_[1:]}\")"
   ]
  },
  {
   "cell_type": "markdown",
   "metadata": {},
   "source": [
    "## Lasso Regression From Scratch"
   ]
  },
  {
   "cell_type": "code",
   "execution_count": 14,
   "metadata": {},
   "outputs": [],
   "source": [
    "N = X_train.shape[0]\n",
    "M = X_train.shape[1]\n",
    "W = np.ones(M, dtype=float)\n",
    "X_train_lasso = X_train / (np.linalg.norm(X_train,axis = 0))\n",
    "X_test_lasso = X_test / (np.linalg.norm(X_train,axis = 0))"
   ]
  },
  {
   "cell_type": "code",
   "execution_count": 15,
   "metadata": {},
   "outputs": [],
   "source": [
    "def soft_threshold(rho,penalty):\n",
    "    return np.sign(rho) * max(abs(rho) - penalty, 0.0)"
   ]
  },
  {
   "cell_type": "code",
   "execution_count": 16,
   "metadata": {},
   "outputs": [],
   "source": [
    "for epoch in range(1000):\n",
    "    for j in range(M):\n",
    "        rho = X_train_lasso[:,j].T @ (y_train - (X_train_lasso @ W) + W[j]*X_train_lasso[:,j])\n",
    "        #z = np.sum(X_train_lasso[:,j]**2)\n",
    "        if j==0:\n",
    "            W[j] = rho\n",
    "        else:\n",
    "            W[j] = soft_threshold(rho,1)"
   ]
  },
  {
   "cell_type": "code",
   "execution_count": 17,
   "metadata": {},
   "outputs": [
    {
     "name": "stdout",
     "output_type": "stream",
     "text": [
      "Lasso Regression Model R2 on train data: 0.8227001975450101\n",
      "Lasso Regression Model R2 on test data: 0.6129552029411226\n"
     ]
    }
   ],
   "source": [
    "y_pred_train = X_train_lasso @ W\n",
    "y_pred_test = X_test_lasso @ W\n",
    "\n",
    "print(f\"Lasso Regression Model R2 on train data: {r2_score(y_train, y_pred_train)}\")\n",
    "print(f\"Lasso Regression Model R2 on test data: {r2_score(y_test, y_pred_test)}\")"
   ]
  },
  {
   "cell_type": "code",
   "execution_count": 18,
   "metadata": {},
   "outputs": [
    {
     "name": "stdout",
     "output_type": "stream",
     "text": [
      "Lasso Regression Model intercept: 130.48013880759834\n"
     ]
    }
   ],
   "source": [
    "print(f\"Lasso Regression Model intercept: {W[0]}\")"
   ]
  },
  {
   "cell_type": "code",
   "execution_count": 19,
   "metadata": {},
   "outputs": [
    {
     "name": "stdout",
     "output_type": "stream",
     "text": [
      "Lasso Regression Model Coefficients: [ 0.         72.47889223  0.          0.          0.          0.\n",
      "  0.          0.          3.08352672]\n"
     ]
    }
   ],
   "source": [
    "print(f\"Lasso Regression Model Coefficients: {W[1:]}\")"
   ]
  },
  {
   "cell_type": "markdown",
   "metadata": {},
   "source": [
    "## Ridge Regression From Scratch"
   ]
  },
  {
   "cell_type": "code",
   "execution_count": 20,
   "metadata": {},
   "outputs": [],
   "source": [
    "reg = 0.1"
   ]
  },
  {
   "cell_type": "code",
   "execution_count": 21,
   "metadata": {},
   "outputs": [],
   "source": [
    "W = np.linalg.inv(X_train.T @ X_train + reg * np.eye(X_train.shape[1])) @ X_train.T @ y_train"
   ]
  },
  {
   "cell_type": "code",
   "execution_count": 22,
   "metadata": {},
   "outputs": [
    {
     "name": "stdout",
     "output_type": "stream",
     "text": [
      "Ridge Regression Model R2 on train data: 0.8176765512165518\n",
      "Ridge Regression Model R2 on test data: 0.6246445977387474\n"
     ]
    }
   ],
   "source": [
    "y_pred_train = X_train @ W\n",
    "y_pred_test = X_test @ W\n",
    "\n",
    "print(f\"Ridge Regression Model R2 on train data: {r2_score(y_train, y_pred_train)}\")\n",
    "print(f\"Ridge Regression Model R2 on test data: {r2_score(y_test, y_pred_test)}\")"
   ]
  },
  {
   "cell_type": "code",
   "execution_count": 23,
   "metadata": {},
   "outputs": [
    {
     "name": "stdout",
     "output_type": "stream",
     "text": [
      "Ridge Regression Model intercept: 30.297004975376808\n"
     ]
    }
   ],
   "source": [
    "print(f\"Ridge Regression Model intercept: {W[0]}\")"
   ]
  },
  {
   "cell_type": "code",
   "execution_count": 24,
   "metadata": {},
   "outputs": [
    {
     "name": "stdout",
     "output_type": "stream",
     "text": [
      "Ridge Regression Model Coefficients: [13.61860178 12.63928517  6.79545349  2.93484465  1.12959907  0.62077358\n",
      "  0.78957487  1.24366988  1.76070669]\n"
     ]
    }
   ],
   "source": [
    "print(f\"Ridge Regression Model Coefficients: {W[1:]}\")"
   ]
  }
 ],
 "metadata": {
  "kernelspec": {
   "display_name": "Python 3",
   "language": "python",
   "name": "python3"
  },
  "language_info": {
   "codemirror_mode": {
    "name": "ipython",
    "version": 3
   },
   "file_extension": ".py",
   "mimetype": "text/x-python",
   "name": "python",
   "nbconvert_exporter": "python",
   "pygments_lexer": "ipython3",
   "version": "3.11.5"
  }
 },
 "nbformat": 4,
 "nbformat_minor": 2
}
